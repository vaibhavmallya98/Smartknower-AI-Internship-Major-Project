{
  "nbformat": 4,
  "nbformat_minor": 0,
  "metadata": {
    "colab": {
      "name": "TranferLearning.ipynb",
      "provenance": [],
      "collapsed_sections": [],
      "include_colab_link": true
    },
    "kernelspec": {
      "display_name": "Python 3",
      "name": "python3"
    }
  },
  "cells": [
    {
      "cell_type": "markdown",
      "metadata": {
        "id": "view-in-github",
        "colab_type": "text"
      },
      "source": [
        "<a href=\"https://colab.research.google.com/github/vaibhavmallya98/Smartknower-AI-Internship-Major-Project/blob/main/TranferLearning.ipynb\" target=\"_parent\"><img src=\"https://colab.research.google.com/assets/colab-badge.svg\" alt=\"Open In Colab\"/></a>"
      ]
    },
    {
      "cell_type": "code",
      "metadata": {
        "id": "FNYoy_VQon5R"
      },
      "source": [
        "import numpy as np\n",
        "import pickle\n",
        "import cv2\n",
        "from os import listdir\n",
        "from sklearn.preprocessing import LabelBinarizer\n",
        "from keras.models import Sequential\n",
        "from keras.layers.normalization import BatchNormalization\n",
        "from keras.layers.convolutional import Conv2D\n",
        "from keras.layers.convolutional import MaxPooling2D\n",
        "from keras.layers.core import Activation, Flatten, Dropout, Dense\n",
        "from keras import backend as K\n",
        "from keras.preprocessing.image import ImageDataGenerator\n",
        "from keras.optimizers import Adam\n",
        "from keras.preprocessing import image\n",
        "from keras.preprocessing.image import img_to_array\n",
        "from sklearn.preprocessing import MultiLabelBinarizer\n",
        "from sklearn.model_selection import train_test_split\n",
        "import matplotlib.pyplot as plt"
      ],
      "execution_count": null,
      "outputs": []
    },
    {
      "cell_type": "code",
      "metadata": {
        "id": "In7DpjvukHyJ",
        "outputId": "e5824c85-12b7-4fed-ecb7-df7a015d3391",
        "colab": {
          "base_uri": "https://localhost:8080/",
          "height": 34
        }
      },
      "source": [
        "from google.colab import drive\n",
        "drive.mount('/content/drive')"
      ],
      "execution_count": null,
      "outputs": [
        {
          "output_type": "stream",
          "text": [
            "Mounted at /content/drive\n"
          ],
          "name": "stdout"
        }
      ]
    },
    {
      "cell_type": "code",
      "metadata": {
        "id": "J5V-5SKWkPeb"
      },
      "source": [
        "directory_root = '/content/drive/My Drive/PlantVillage'"
      ],
      "execution_count": null,
      "outputs": []
    },
    {
      "cell_type": "code",
      "metadata": {
        "id": "PLjwiKQNkWNw"
      },
      "source": [
        "def convert_image_to_array(image_dir):\n",
        "    try:\n",
        "        image = cv2.imread(image_dir)\n",
        "        if image is not None :\n",
        "            image = cv2.resize(image, (256,256))   \n",
        "            return img_to_array(image)\n",
        "        else :\n",
        "            return np.array([])\n",
        "    except Exception as e:\n",
        "        print(f\"Error : {e}\")\n",
        "        return None"
      ],
      "execution_count": null,
      "outputs": []
    },
    {
      "cell_type": "code",
      "metadata": {
        "id": "q9ozAp1_oupW",
        "outputId": "ef710e51-be47-417b-81a0-3435104a1b4a",
        "colab": {
          "base_uri": "https://localhost:8080/",
          "height": 302
        }
      },
      "source": [
        "image_list, label_list = [], []\n",
        "try:\n",
        "    print(\"[INFO] Loading images ...\")\n",
        "    root_dir = listdir(directory_root)\n",
        "    for directory in root_dir :\n",
        "        # remove .DS_Store from list\n",
        "        if directory == \".DS_Store\" :\n",
        "            root_dir.remove(directory)\n",
        "\n",
        "    for plant_folder in root_dir :\n",
        "        plant_disease_folder_list = listdir(f\"{directory_root}/{plant_folder}\")\n",
        "        \n",
        "        for disease_folder in plant_disease_folder_list :\n",
        "            # remove .DS_Store from list\n",
        "            if disease_folder == \".DS_Store\" :\n",
        "                plant_disease_folder_list.remove(disease_folder)\n",
        "\n",
        "        for plant_disease_folder in plant_disease_folder_list:\n",
        "            print(f\"[INFO] Processing {plant_disease_folder} ...\")\n",
        "            plant_disease_image_list = listdir(f\"{directory_root}/{plant_folder}/{plant_disease_folder}/\")\n",
        "                \n",
        "            for single_plant_disease_image in plant_disease_image_list :\n",
        "                if single_plant_disease_image == \".DS_Store\" :\n",
        "                    plant_disease_image_list.remove(single_plant_disease_image)\n",
        "\n",
        "            for image in plant_disease_image_list[:200]:\n",
        "                image_directory = f\"{directory_root}/{plant_folder}/{plant_disease_folder}/{image}\"\n",
        "                if image_directory.endswith(\".jpg\") == True or image_directory.endswith(\".JPG\") == True:\n",
        "                    image_list.append(convert_image_to_array(image_directory))\n",
        "                    label_list.append(plant_disease_folder)\n",
        "    print(\"[INFO] Image loading completed\")  \n",
        "except Exception as e:\n",
        "    print(f\"Error : {e}\")\n",
        "\n",
        "    "
      ],
      "execution_count": null,
      "outputs": [
        {
          "output_type": "stream",
          "text": [
            "[INFO] Loading images ...\n",
            "[INFO] Processing Tomato_Septoria_leaf_spot ...\n",
            "[INFO] Processing Tomato_Leaf_Mold ...\n",
            "[INFO] Processing Tomato_Bacterial_spot ...\n",
            "[INFO] Processing Tomato_Spider_mites_Two_spotted_spider_mite ...\n",
            "[INFO] Processing Tomato__Tomato_mosaic_virus ...\n",
            "[INFO] Processing Tomato__Target_Spot ...\n",
            "[INFO] Processing Tomato_Early_blight ...\n",
            "[INFO] Processing Tomato__Tomato_YellowLeaf__Curl_Virus ...\n",
            "[INFO] Processing Tomato_Late_blight ...\n",
            "[INFO] Processing Tomato_healthy ...\n",
            "[INFO] Processing Potato___Early_blight ...\n",
            "[INFO] Processing Potato___healthy ...\n",
            "[INFO] Processing Potato___Late_blight ...\n",
            "[INFO] Processing Pepper__bell___healthy ...\n",
            "[INFO] Processing Pepper__bell___Bacterial_spot ...\n",
            "[INFO] Image loading completed\n"
          ],
          "name": "stdout"
        }
      ]
    },
    {
      "cell_type": "code",
      "metadata": {
        "id": "jDoNNuL_4tcp",
        "outputId": "339cbde1-8091-46e3-d2aa-abe7b38e144b",
        "colab": {
          "base_uri": "https://localhost:8080/",
          "height": 84
        }
      },
      "source": [
        "print(len(image_list))\n",
        "print(len(label_list))\n",
        "print(type(image_list[0]))\n",
        "print(image_list[0].shape)"
      ],
      "execution_count": null,
      "outputs": [
        {
          "output_type": "stream",
          "text": [
            "2951\n",
            "2951\n",
            "<class 'numpy.ndarray'>\n",
            "(256, 256, 3)\n"
          ],
          "name": "stdout"
        }
      ]
    },
    {
      "cell_type": "code",
      "metadata": {
        "id": "lv0QrY464x8L"
      },
      "source": [
        "#creating additional data by transposing every image with same lable\n",
        "image_list_T = []\n",
        "label_list_T = []\n",
        "final_image_list = image_list\n",
        "final_label_list = label_list\n",
        "for i in range(len(image_list)):\n",
        "  image_T = np.transpose(image_list[i],(1,0,2))\n",
        "  image_list_T.append(image_T)\n",
        "  label_list_T.append(label_list[i])\n",
        "\n",
        "final_image_list+=image_list_T\n",
        "final_label_list+=label_list_T"
      ],
      "execution_count": null,
      "outputs": []
    },
    {
      "cell_type": "code",
      "metadata": {
        "id": "uxh7a7hMAznV",
        "outputId": "2f89adb4-3238-43e1-a3d9-0fc47034e0f6",
        "colab": {
          "base_uri": "https://localhost:8080/",
          "height": 34
        }
      },
      "source": [
        "len(final_image_list)"
      ],
      "execution_count": null,
      "outputs": [
        {
          "output_type": "execute_result",
          "data": {
            "text/plain": [
              "5902"
            ]
          },
          "metadata": {
            "tags": []
          },
          "execution_count": 9
        }
      ]
    },
    {
      "cell_type": "code",
      "metadata": {
        "id": "7GSL8Rx19fOP",
        "outputId": "a8f95609-9beb-4e7e-d488-c4e942d4a7bf",
        "colab": {
          "base_uri": "https://localhost:8080/",
          "height": 134
        }
      },
      "source": [
        " from sklearn.preprocessing import LabelBinarizer\n",
        " encoder = LabelBinarizer()\n",
        " one_hot_label = encoder.fit_transform(label_list)\n",
        " print(one_hot_label)"
      ],
      "execution_count": null,
      "outputs": [
        {
          "output_type": "stream",
          "text": [
            "[[0 0 0 ... 0 0 0]\n",
            " [0 0 0 ... 0 0 0]\n",
            " [0 0 0 ... 0 0 0]\n",
            " ...\n",
            " [1 0 0 ... 0 0 0]\n",
            " [1 0 0 ... 0 0 0]\n",
            " [1 0 0 ... 0 0 0]]\n"
          ],
          "name": "stdout"
        }
      ]
    },
    {
      "cell_type": "code",
      "metadata": {
        "id": "-DMa7PXX-DHz",
        "outputId": "c4221097-183f-405b-b77b-a30852acafce",
        "colab": {
          "base_uri": "https://localhost:8080/",
          "height": 168
        }
      },
      "source": [
        "unique_labels,indices = np.unique(label_list,return_index=True)\n",
        "print(unique_labels)\n",
        "print(indices)"
      ],
      "execution_count": null,
      "outputs": [
        {
          "output_type": "stream",
          "text": [
            "['Pepper__bell___Bacterial_spot' 'Pepper__bell___healthy'\n",
            " 'Potato___Early_blight' 'Potato___Late_blight' 'Potato___healthy'\n",
            " 'Tomato_Bacterial_spot' 'Tomato_Early_blight' 'Tomato_Late_blight'\n",
            " 'Tomato_Leaf_Mold' 'Tomato_Septoria_leaf_spot'\n",
            " 'Tomato_Spider_mites_Two_spotted_spider_mite' 'Tomato__Target_Spot'\n",
            " 'Tomato__Tomato_YellowLeaf__Curl_Virus' 'Tomato__Tomato_mosaic_virus'\n",
            " 'Tomato_healthy']\n",
            "[2751 2551 1999 2351 2199  400 1200 1599  200    0  600 1000 1400  800\n",
            " 1799]\n"
          ],
          "name": "stdout"
        }
      ]
    },
    {
      "cell_type": "code",
      "metadata": {
        "id": "rzCIFXw4-eE9",
        "outputId": "cb03628b-4098-4679-8237-a42fe5121f1e",
        "colab": {
          "base_uri": "https://localhost:8080/",
          "height": 54
        }
      },
      "source": [
        "label_indices = [np.argmax(one_hot_label[i]) for i in indices]\n",
        "label_dict = {}\n",
        "for i in range(len(label_indices)):\n",
        "  label_dict[label_indices[i]]= unique_labels[i]\n",
        "print(label_dict)   #will be used for evaluation"
      ],
      "execution_count": null,
      "outputs": [
        {
          "output_type": "stream",
          "text": [
            "{0: 'Pepper__bell___Bacterial_spot', 1: 'Pepper__bell___healthy', 2: 'Potato___Early_blight', 3: 'Potato___Late_blight', 4: 'Potato___healthy', 5: 'Tomato_Bacterial_spot', 6: 'Tomato_Early_blight', 7: 'Tomato_Late_blight', 8: 'Tomato_Leaf_Mold', 9: 'Tomato_Septoria_leaf_spot', 10: 'Tomato_Spider_mites_Two_spotted_spider_mite', 11: 'Tomato__Target_Spot', 12: 'Tomato__Tomato_YellowLeaf__Curl_Virus', 13: 'Tomato__Tomato_mosaic_virus', 14: 'Tomato_healthy'}\n"
          ],
          "name": "stdout"
        }
      ]
    },
    {
      "cell_type": "code",
      "metadata": {
        "id": "co-KxARFDrhK"
      },
      "source": [
        "np_final_image_list = np.array(image_list) / 255.0"
      ],
      "execution_count": null,
      "outputs": []
    },
    {
      "cell_type": "code",
      "metadata": {
        "id": "RCyrQoa4D8Sm"
      },
      "source": [
        "x_train, x_test, y_train, y_test = train_test_split(np_final_image_list, one_hot_label, test_size=0.2, random_state = 42)"
      ],
      "execution_count": null,
      "outputs": []
    },
    {
      "cell_type": "code",
      "metadata": {
        "id": "rkKminHdEhMU",
        "outputId": "ba37d5bd-904e-4390-d2d5-86fc372442af",
        "colab": {
          "base_uri": "https://localhost:8080/",
          "height": 67
        }
      },
      "source": [
        "print(x_train.shape)\n",
        "print(type(x_train))\n",
        "print(len(x_train))"
      ],
      "execution_count": null,
      "outputs": [
        {
          "output_type": "stream",
          "text": [
            "(4721, 256, 256, 3)\n",
            "<class 'numpy.ndarray'>\n",
            "4721\n"
          ],
          "name": "stdout"
        }
      ]
    },
    {
      "cell_type": "code",
      "metadata": {
        "id": "qm7k6vUWEyXE"
      },
      "source": [
        "import tensorflow as tf\n",
        "from tensorflow.keras import models,layers\n",
        "from keras.applications.inception_v3 import InceptionV3"
      ],
      "execution_count": null,
      "outputs": []
    },
    {
      "cell_type": "code",
      "metadata": {
        "id": "FEavl3CYE5Ns",
        "outputId": "3bcd753b-5c85-4992-d201-8b37aabbeab0",
        "colab": {
          "base_uri": "https://localhost:8080/",
          "height": 406
        }
      },
      "source": [
        "base_inception = InceptionV3(weights='imagenet', include_top=False, input_shape=(256,256, 3))\n",
        "base_inception.trainable = False\n",
        "\n",
        "model = models.Sequential()\n",
        "model.add(base_inception)\n",
        "model.add(layers.GlobalAveragePooling2D())\n",
        "model.add(layers.Dropout(0.03))\n",
        "model.add(layers.Dense(512, activation='relu'))\n",
        "model.add(layers.Dense(512, activation='relu'))\n",
        "model.add(layers.Dense(15, activation='softmax'))\n",
        "model.summary()"
      ],
      "execution_count": null,
      "outputs": [
        {
          "output_type": "stream",
          "text": [
            "Downloading data from https://storage.googleapis.com/tensorflow/keras-applications/inception_v3/inception_v3_weights_tf_dim_ordering_tf_kernels_notop.h5\n",
            "87916544/87910968 [==============================] - 2s 0us/step\n",
            "Model: \"sequential\"\n",
            "_________________________________________________________________\n",
            "Layer (type)                 Output Shape              Param #   \n",
            "=================================================================\n",
            "inception_v3 (Functional)    (None, 6, 6, 2048)        21802784  \n",
            "_________________________________________________________________\n",
            "global_average_pooling2d (Gl (None, 2048)              0         \n",
            "_________________________________________________________________\n",
            "dropout (Dropout)            (None, 2048)              0         \n",
            "_________________________________________________________________\n",
            "dense (Dense)                (None, 512)               1049088   \n",
            "_________________________________________________________________\n",
            "dense_1 (Dense)              (None, 512)               262656    \n",
            "_________________________________________________________________\n",
            "dense_2 (Dense)              (None, 15)                7695      \n",
            "=================================================================\n",
            "Total params: 23,122,223\n",
            "Trainable params: 1,319,439\n",
            "Non-trainable params: 21,802,784\n",
            "_________________________________________________________________\n"
          ],
          "name": "stdout"
        }
      ]
    },
    {
      "cell_type": "code",
      "metadata": {
        "id": "BhMiIDfaFCNs"
      },
      "source": [
        "model.compile(loss=\"binary_crossentropy\", optimizer='adam',metrics=[\"accuracy\"])"
      ],
      "execution_count": null,
      "outputs": []
    },
    {
      "cell_type": "code",
      "metadata": {
        "id": "dF_wstYsFDP9",
        "outputId": "14c285b4-dc55-468c-9584-5bf4d0cf9c9a",
        "colab": {
          "base_uri": "https://localhost:8080/",
          "height": 252
        }
      },
      "source": [
        "history = model.fit(x_train,y_train,epochs = 7)"
      ],
      "execution_count": null,
      "outputs": [
        {
          "output_type": "stream",
          "text": [
            "Epoch 1/7\n",
            "148/148 [==============================] - 612s 4s/step - loss: 0.1403 - accuracy: 0.5387\n",
            "Epoch 2/7\n",
            "148/148 [==============================] - 613s 4s/step - loss: 0.0834 - accuracy: 0.7437\n",
            "Epoch 3/7\n",
            "148/148 [==============================] - 613s 4s/step - loss: 0.0653 - accuracy: 0.8043\n",
            "Epoch 4/7\n",
            "148/148 [==============================] - 616s 4s/step - loss: 0.0507 - accuracy: 0.8430\n",
            "Epoch 5/7\n",
            "148/148 [==============================] - 617s 4s/step - loss: 0.0433 - accuracy: 0.8729\n",
            "Epoch 6/7\n",
            "148/148 [==============================] - 615s 4s/step - loss: 0.0380 - accuracy: 0.8854\n",
            "Epoch 7/7\n",
            "148/148 [==============================] - 614s 4s/step - loss: 0.0334 - accuracy: 0.9017\n"
          ],
          "name": "stdout"
        }
      ]
    },
    {
      "cell_type": "code",
      "metadata": {
        "id": "r6DsX0EsFKB8"
      },
      "source": [
        "test_prediction = model.predict(x_test)\n",
        "test_prediction_classes= np.array([np.argmax(i) for i in test_prediction])\n",
        "y_test_classes = np.array([np.argmax(i) for i in y_test])"
      ],
      "execution_count": null,
      "outputs": []
    },
    {
      "cell_type": "code",
      "metadata": {
        "id": "E8oIVsqPFNz8",
        "outputId": "04d707ec-e297-435f-ae52-ef9fb749ea40",
        "colab": {
          "base_uri": "https://localhost:8080/",
          "height": 34
        }
      },
      "source": [
        "correct = 0\n",
        "incorrect = 0 \n",
        "for i in range(len(test_prediction_classes)):\n",
        "  if y_test_classes[i] == test_prediction_classes[i]:\n",
        "    correct+=1\n",
        "  else:\n",
        "    incorrect+=1\n",
        "accuracy = correct/(correct+incorrect)\n",
        "print(accuracy)\n",
        "#Testing Accuracy"
      ],
      "execution_count": null,
      "outputs": [
        {
          "output_type": "stream",
          "text": [
            "0.8052497883149873\n"
          ],
          "name": "stdout"
        }
      ]
    },
    {
      "cell_type": "code",
      "metadata": {
        "id": "c6mDRD4WkU_j",
        "outputId": "e60fed75-b824-4861-fb59-2849bb4de91e",
        "colab": {
          "base_uri": "https://localhost:8080/",
          "height": 638
        }
      },
      "source": [
        "from sklearn import metrics\n",
        "print(metrics.confusion_matrix(y_test_classes, test_prediction_classes))\n",
        "print(metrics.classification_report(y_test_classes, test_prediction_classes))"
      ],
      "execution_count": null,
      "outputs": [
        {
          "output_type": "stream",
          "text": [
            "[[76  3  2  0  2  0  0  0  0  0  0  0  1  0  0]\n",
            " [ 5 62  0  0  0  0  0  0  0  0  0  0  0  0  0]\n",
            " [ 0  0 75  2  0  0  1  0  0  0  0  0  0  0  0]\n",
            " [ 0  0  5 65  1  0  0  1  0  0  0  0  0  0  0]\n",
            " [ 0  0  0  6 54  0  1  0  0  0  0  0  0  0  0]\n",
            " [ 0  0  0  1  0 71 11  1  0  7  0  0  1  1  1]\n",
            " [ 0  0  0  0  0  2 67  3  0  2  1  3  1  0  0]\n",
            " [ 0  0  2  4  0  1 10 57  1  0  1  3  1  0  0]\n",
            " [ 0  0  0  0  0  2 11  1 63  0  1  0  1  3  1]\n",
            " [ 0  0  1  0  0  5 16  0  1 50  0  1  1  3  0]\n",
            " [ 0  0  0  4  2  3  8  0  1  1 41 10  4  3  3]\n",
            " [ 2  0  0  2  0  2 13  1  1  0  4 56  1  0  5]\n",
            " [ 0  0  0  0  0  2  1  0  0  0  0  1 72  0  0]\n",
            " [ 0  0  0  0  0  0  5  0  0  0  0  0  1 76  0]\n",
            " [ 0  0  0  0  0  0  1  1  0  1  4  7  0  0 66]]\n",
            "              precision    recall  f1-score   support\n",
            "\n",
            "           0       0.92      0.90      0.91        84\n",
            "           1       0.95      0.93      0.94        67\n",
            "           2       0.88      0.96      0.92        78\n",
            "           3       0.77      0.90      0.83        72\n",
            "           4       0.92      0.89      0.90        61\n",
            "           5       0.81      0.76      0.78        94\n",
            "           6       0.46      0.85      0.60        79\n",
            "           7       0.88      0.71      0.79        80\n",
            "           8       0.94      0.76      0.84        83\n",
            "           9       0.82      0.64      0.72        78\n",
            "          10       0.79      0.51      0.62        80\n",
            "          11       0.69      0.64      0.67        87\n",
            "          12       0.86      0.95      0.90        76\n",
            "          13       0.88      0.93      0.90        82\n",
            "          14       0.87      0.82      0.85        80\n",
            "\n",
            "    accuracy                           0.81      1181\n",
            "   macro avg       0.83      0.81      0.81      1181\n",
            "weighted avg       0.83      0.81      0.81      1181\n",
            "\n"
          ],
          "name": "stdout"
        }
      ]
    },
    {
      "cell_type": "code",
      "metadata": {
        "id": "5uEbogPDl5ca"
      },
      "source": [
        "train_prediction = model.predict(x_train)\n",
        "train_prediction_classes= np.array([np.argmax(i) for i in train_prediction])\n",
        "y_train_classes = np.array([np.argmax(i) for i in y_train])"
      ],
      "execution_count": null,
      "outputs": []
    },
    {
      "cell_type": "code",
      "metadata": {
        "id": "7OiEC1ADl5ce",
        "outputId": "1816be34-bf52-473d-db12-9d19995f4550",
        "colab": {
          "base_uri": "https://localhost:8080/",
          "height": 34
        }
      },
      "source": [
        "correct = 0\n",
        "incorrect = 0 \n",
        "for i in range(len(train_prediction_classes)):\n",
        "  if y_train_classes[i] == train_prediction_classes[i]:\n",
        "    correct+=1\n",
        "  else:\n",
        "    incorrect+=1\n",
        "accuracy = correct/(correct+incorrect)\n",
        "print(accuracy)\n",
        "#Training Accuracy"
      ],
      "execution_count": null,
      "outputs": [
        {
          "output_type": "stream",
          "text": [
            "0.9491633128574455\n"
          ],
          "name": "stdout"
        }
      ]
    },
    {
      "cell_type": "code",
      "metadata": {
        "id": "MupezaC6l5cg",
        "outputId": "bad5e6de-e79c-41b2-84f1-6f1141c4ea63",
        "colab": {
          "base_uri": "https://localhost:8080/",
          "height": 638
        }
      },
      "source": [
        "from sklearn import metrics\n",
        "print(metrics.confusion_matrix(y_train_classes, train_prediction_classes))\n",
        "print(metrics.classification_report(y_train_classes, train_prediction_classes))"
      ],
      "execution_count": null,
      "outputs": [
        {
          "output_type": "stream",
          "text": [
            "[[314   2   0   0   0   0   0   0   0   0   0   0   0   0   0]\n",
            " [  6 327   0   0   0   0   0   0   0   0   0   0   0   0   0]\n",
            " [  0   0 322   0   0   0   0   0   0   0   0   0   0   0   0]\n",
            " [  0   0   4 321   2   0   1   0   0   0   0   0   0   0   0]\n",
            " [  0   0   0   7 236   0   0   0   0   0   0   0   0   0   0]\n",
            " [  0   0   0   0   0 293   8   2   1   2   0   0   0   0   0]\n",
            " [  0   0   1   0   0   0 319   0   0   0   0   1   0   0   0]\n",
            " [  1   0   1   3   0   0  13 300   0   0   0   2   0   0   0]\n",
            " [  0   0   0   3   0   4  28   3 268   1   0   1   1   7   1]\n",
            " [  1   0   0   0   0   5  17   1   2 285   0   2   0   9   0]\n",
            " [  1   0   0   3   1   3  16   2   1   1 270  12   0   7   3]\n",
            " [  0   1   0   0   0   2  18   0   1   2   4 282   0   1   2]\n",
            " [  0   0   0   0   0   0   3   0   1   0   0   1 317   0   0]\n",
            " [  0   0   0   0   0   0   1   0   0   0   0   0   0 317   0]\n",
            " [  0   0   0   0   0   0   2   0   0   0   0   8   0   0 310]]\n",
            "              precision    recall  f1-score   support\n",
            "\n",
            "           0       0.97      0.99      0.98       316\n",
            "           1       0.99      0.98      0.99       333\n",
            "           2       0.98      1.00      0.99       322\n",
            "           3       0.95      0.98      0.97       328\n",
            "           4       0.99      0.97      0.98       243\n",
            "           5       0.95      0.96      0.96       306\n",
            "           6       0.75      0.99      0.85       321\n",
            "           7       0.97      0.94      0.96       320\n",
            "           8       0.98      0.85      0.91       317\n",
            "           9       0.98      0.89      0.93       322\n",
            "          10       0.99      0.84      0.91       320\n",
            "          11       0.91      0.90      0.91       313\n",
            "          12       1.00      0.98      0.99       322\n",
            "          13       0.93      1.00      0.96       318\n",
            "          14       0.98      0.97      0.97       320\n",
            "\n",
            "    accuracy                           0.95      4721\n",
            "   macro avg       0.95      0.95      0.95      4721\n",
            "weighted avg       0.95      0.95      0.95      4721\n",
            "\n"
          ],
          "name": "stdout"
        }
      ]
    },
    {
      "cell_type": "code",
      "metadata": {
        "id": "M1UlsXMPmAD7"
      },
      "source": [
        "model.save('PlantVillage_TransferLearning.h5')"
      ],
      "execution_count": null,
      "outputs": []
    }
  ]
}